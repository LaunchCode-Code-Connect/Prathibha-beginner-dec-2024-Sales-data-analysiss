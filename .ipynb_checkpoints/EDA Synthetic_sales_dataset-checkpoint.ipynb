{
 "cells": [
  {
   "cell_type": "code",
   "execution_count": 1,
   "metadata": {},
   "outputs": [],
   "source": [
    "import pandas as pd\n",
    "import matplotlib.pyplot as plt\n",
    "import seaborn as sns\n",
    "import numpy as np\n"
   ]
  },
  {
   "cell_type": "code",
   "execution_count": 2,
   "metadata": {},
   "outputs": [],
   "source": [
    "# Read the data\n",
    "df = pd.read_csv('C://Users//prave//Desktop//LaunchcodeW+//Prathibha-beginner-dec-2024-Sales-data-analysiss//synthetic_sales_dataset1.csv')"
   ]
  },
  {
   "cell_type": "code",
   "execution_count": 3,
   "metadata": {},
   "outputs": [
    {
     "data": {
      "text/html": [
       "<div>\n",
       "<style scoped>\n",
       "    .dataframe tbody tr th:only-of-type {\n",
       "        vertical-align: middle;\n",
       "    }\n",
       "\n",
       "    .dataframe tbody tr th {\n",
       "        vertical-align: top;\n",
       "    }\n",
       "\n",
       "    .dataframe thead th {\n",
       "        text-align: right;\n",
       "    }\n",
       "</style>\n",
       "<table border=\"1\" class=\"dataframe\">\n",
       "  <thead>\n",
       "    <tr style=\"text-align: right;\">\n",
       "      <th></th>\n",
       "      <th>Quantity Sold</th>\n",
       "      <th>Price per Unit</th>\n",
       "      <th>Customer Age</th>\n",
       "      <th>Total Sales Amount</th>\n",
       "    </tr>\n",
       "  </thead>\n",
       "  <tbody>\n",
       "    <tr>\n",
       "      <th>count</th>\n",
       "      <td>1000.000000</td>\n",
       "      <td>1000.000000</td>\n",
       "      <td>1000.000000</td>\n",
       "      <td>1000.000000</td>\n",
       "    </tr>\n",
       "    <tr>\n",
       "      <th>mean</th>\n",
       "      <td>5.564000</td>\n",
       "      <td>264.367010</td>\n",
       "      <td>43.192000</td>\n",
       "      <td>1456.763910</td>\n",
       "    </tr>\n",
       "    <tr>\n",
       "      <th>std</th>\n",
       "      <td>2.877879</td>\n",
       "      <td>139.386258</td>\n",
       "      <td>15.559024</td>\n",
       "      <td>1125.985226</td>\n",
       "    </tr>\n",
       "    <tr>\n",
       "      <th>min</th>\n",
       "      <td>1.000000</td>\n",
       "      <td>11.690000</td>\n",
       "      <td>18.000000</td>\n",
       "      <td>11.690000</td>\n",
       "    </tr>\n",
       "    <tr>\n",
       "      <th>25%</th>\n",
       "      <td>3.000000</td>\n",
       "      <td>148.320000</td>\n",
       "      <td>30.000000</td>\n",
       "      <td>493.880000</td>\n",
       "    </tr>\n",
       "    <tr>\n",
       "      <th>50%</th>\n",
       "      <td>6.000000</td>\n",
       "      <td>270.630000</td>\n",
       "      <td>42.000000</td>\n",
       "      <td>1197.110000</td>\n",
       "    </tr>\n",
       "    <tr>\n",
       "      <th>75%</th>\n",
       "      <td>8.000000</td>\n",
       "      <td>384.777500</td>\n",
       "      <td>57.000000</td>\n",
       "      <td>2194.460000</td>\n",
       "    </tr>\n",
       "    <tr>\n",
       "      <th>max</th>\n",
       "      <td>10.000000</td>\n",
       "      <td>499.830000</td>\n",
       "      <td>70.000000</td>\n",
       "      <td>4876.600000</td>\n",
       "    </tr>\n",
       "  </tbody>\n",
       "</table>\n",
       "</div>"
      ],
      "text/plain": [
       "       Quantity Sold  Price per Unit  Customer Age  Total Sales Amount\n",
       "count    1000.000000     1000.000000   1000.000000         1000.000000\n",
       "mean        5.564000      264.367010     43.192000         1456.763910\n",
       "std         2.877879      139.386258     15.559024         1125.985226\n",
       "min         1.000000       11.690000     18.000000           11.690000\n",
       "25%         3.000000      148.320000     30.000000          493.880000\n",
       "50%         6.000000      270.630000     42.000000         1197.110000\n",
       "75%         8.000000      384.777500     57.000000         2194.460000\n",
       "max        10.000000      499.830000     70.000000         4876.600000"
      ]
     },
     "execution_count": 3,
     "metadata": {},
     "output_type": "execute_result"
    }
   ],
   "source": [
    "# numerical columns and there statistical summery of their values\n",
    "df.describe()"
   ]
  },
  {
   "cell_type": "code",
   "execution_count": 4,
   "metadata": {},
   "outputs": [
    {
     "data": {
      "text/html": [
       "<div>\n",
       "<style scoped>\n",
       "    .dataframe tbody tr th:only-of-type {\n",
       "        vertical-align: middle;\n",
       "    }\n",
       "\n",
       "    .dataframe tbody tr th {\n",
       "        vertical-align: top;\n",
       "    }\n",
       "\n",
       "    .dataframe thead th {\n",
       "        text-align: right;\n",
       "    }\n",
       "</style>\n",
       "<table border=\"1\" class=\"dataframe\">\n",
       "  <thead>\n",
       "    <tr style=\"text-align: right;\">\n",
       "      <th></th>\n",
       "      <th>Order ID</th>\n",
       "      <th>Date</th>\n",
       "      <th>Product ID</th>\n",
       "      <th>Product Name</th>\n",
       "      <th>Category</th>\n",
       "      <th>Quantity Sold</th>\n",
       "      <th>Price per Unit</th>\n",
       "      <th>Customer ID</th>\n",
       "      <th>Customer Age</th>\n",
       "      <th>Customer Gender</th>\n",
       "      <th>Region</th>\n",
       "      <th>Total Sales Amount</th>\n",
       "    </tr>\n",
       "  </thead>\n",
       "  <tbody>\n",
       "    <tr>\n",
       "      <th>0</th>\n",
       "      <td>d12a0955</td>\n",
       "      <td>5/25/2024</td>\n",
       "      <td>P6136</td>\n",
       "      <td>firm</td>\n",
       "      <td>Groceries</td>\n",
       "      <td>5</td>\n",
       "      <td>46.56</td>\n",
       "      <td>C1460</td>\n",
       "      <td>65</td>\n",
       "      <td>Male</td>\n",
       "      <td>North America</td>\n",
       "      <td>232.80</td>\n",
       "    </tr>\n",
       "    <tr>\n",
       "      <th>1</th>\n",
       "      <td>d0d0bc01</td>\n",
       "      <td>1/4/2024</td>\n",
       "      <td>P2733</td>\n",
       "      <td>community</td>\n",
       "      <td>Groceries</td>\n",
       "      <td>10</td>\n",
       "      <td>408.24</td>\n",
       "      <td>C1049</td>\n",
       "      <td>23</td>\n",
       "      <td>Other</td>\n",
       "      <td>North America</td>\n",
       "      <td>4082.40</td>\n",
       "    </tr>\n",
       "    <tr>\n",
       "      <th>2</th>\n",
       "      <td>dc50f91b</td>\n",
       "      <td>4/12/2024</td>\n",
       "      <td>P9496</td>\n",
       "      <td>friend</td>\n",
       "      <td>Toys</td>\n",
       "      <td>5</td>\n",
       "      <td>355.38</td>\n",
       "      <td>C9674</td>\n",
       "      <td>51</td>\n",
       "      <td>Other</td>\n",
       "      <td>Asia</td>\n",
       "      <td>1776.90</td>\n",
       "    </tr>\n",
       "    <tr>\n",
       "      <th>3</th>\n",
       "      <td>75e69090</td>\n",
       "      <td>5/19/2024</td>\n",
       "      <td>P6820</td>\n",
       "      <td>because</td>\n",
       "      <td>Furniture</td>\n",
       "      <td>9</td>\n",
       "      <td>153.64</td>\n",
       "      <td>C3773</td>\n",
       "      <td>56</td>\n",
       "      <td>Male</td>\n",
       "      <td>Asia</td>\n",
       "      <td>1382.76</td>\n",
       "    </tr>\n",
       "    <tr>\n",
       "      <th>4</th>\n",
       "      <td>f1850f2d</td>\n",
       "      <td>1/31/2024</td>\n",
       "      <td>P4080</td>\n",
       "      <td>family</td>\n",
       "      <td>Clothing</td>\n",
       "      <td>5</td>\n",
       "      <td>221.02</td>\n",
       "      <td>C3947</td>\n",
       "      <td>26</td>\n",
       "      <td>Female</td>\n",
       "      <td>South America</td>\n",
       "      <td>1105.10</td>\n",
       "    </tr>\n",
       "    <tr>\n",
       "      <th>...</th>\n",
       "      <td>...</td>\n",
       "      <td>...</td>\n",
       "      <td>...</td>\n",
       "      <td>...</td>\n",
       "      <td>...</td>\n",
       "      <td>...</td>\n",
       "      <td>...</td>\n",
       "      <td>...</td>\n",
       "      <td>...</td>\n",
       "      <td>...</td>\n",
       "      <td>...</td>\n",
       "      <td>...</td>\n",
       "    </tr>\n",
       "    <tr>\n",
       "      <th>995</th>\n",
       "      <td>87792dd0</td>\n",
       "      <td>10/8/2024</td>\n",
       "      <td>P1795</td>\n",
       "      <td>language</td>\n",
       "      <td>Clothing</td>\n",
       "      <td>2</td>\n",
       "      <td>50.81</td>\n",
       "      <td>C3755</td>\n",
       "      <td>21</td>\n",
       "      <td>Female</td>\n",
       "      <td>South America</td>\n",
       "      <td>101.62</td>\n",
       "    </tr>\n",
       "    <tr>\n",
       "      <th>996</th>\n",
       "      <td>6c45b8a9</td>\n",
       "      <td>11/27/2024</td>\n",
       "      <td>P3982</td>\n",
       "      <td>away</td>\n",
       "      <td>Clothing</td>\n",
       "      <td>1</td>\n",
       "      <td>218.99</td>\n",
       "      <td>C9947</td>\n",
       "      <td>68</td>\n",
       "      <td>Other</td>\n",
       "      <td>South America</td>\n",
       "      <td>218.99</td>\n",
       "    </tr>\n",
       "    <tr>\n",
       "      <th>997</th>\n",
       "      <td>d2887cd2</td>\n",
       "      <td>2/21/2024</td>\n",
       "      <td>P3261</td>\n",
       "      <td>big</td>\n",
       "      <td>Electronics</td>\n",
       "      <td>3</td>\n",
       "      <td>18.61</td>\n",
       "      <td>C4827</td>\n",
       "      <td>62</td>\n",
       "      <td>Male</td>\n",
       "      <td>Africa</td>\n",
       "      <td>55.83</td>\n",
       "    </tr>\n",
       "    <tr>\n",
       "      <th>998</th>\n",
       "      <td>65a15516</td>\n",
       "      <td>10/16/2024</td>\n",
       "      <td>P8429</td>\n",
       "      <td>face</td>\n",
       "      <td>Furniture</td>\n",
       "      <td>5</td>\n",
       "      <td>54.19</td>\n",
       "      <td>C6459</td>\n",
       "      <td>59</td>\n",
       "      <td>Other</td>\n",
       "      <td>Africa</td>\n",
       "      <td>270.95</td>\n",
       "    </tr>\n",
       "    <tr>\n",
       "      <th>999</th>\n",
       "      <td>7724d613</td>\n",
       "      <td>3/12/2024</td>\n",
       "      <td>P3679</td>\n",
       "      <td>top</td>\n",
       "      <td>Toys</td>\n",
       "      <td>9</td>\n",
       "      <td>96.11</td>\n",
       "      <td>C3865</td>\n",
       "      <td>23</td>\n",
       "      <td>Other</td>\n",
       "      <td>Africa</td>\n",
       "      <td>864.99</td>\n",
       "    </tr>\n",
       "  </tbody>\n",
       "</table>\n",
       "<p>1000 rows × 12 columns</p>\n",
       "</div>"
      ],
      "text/plain": [
       "     Order ID        Date Product ID Product Name     Category  Quantity Sold  \\\n",
       "0    d12a0955   5/25/2024      P6136         firm    Groceries              5   \n",
       "1    d0d0bc01    1/4/2024      P2733    community    Groceries             10   \n",
       "2    dc50f91b   4/12/2024      P9496       friend         Toys              5   \n",
       "3    75e69090   5/19/2024      P6820      because    Furniture              9   \n",
       "4    f1850f2d   1/31/2024      P4080       family     Clothing              5   \n",
       "..        ...         ...        ...          ...          ...            ...   \n",
       "995  87792dd0   10/8/2024      P1795     language     Clothing              2   \n",
       "996  6c45b8a9  11/27/2024      P3982         away     Clothing              1   \n",
       "997  d2887cd2   2/21/2024      P3261          big  Electronics              3   \n",
       "998  65a15516  10/16/2024      P8429         face    Furniture              5   \n",
       "999  7724d613   3/12/2024      P3679          top         Toys              9   \n",
       "\n",
       "     Price per Unit Customer ID  Customer Age Customer Gender         Region  \\\n",
       "0             46.56       C1460            65            Male  North America   \n",
       "1            408.24       C1049            23           Other  North America   \n",
       "2            355.38       C9674            51           Other           Asia   \n",
       "3            153.64       C3773            56            Male           Asia   \n",
       "4            221.02       C3947            26          Female  South America   \n",
       "..              ...         ...           ...             ...            ...   \n",
       "995           50.81       C3755            21          Female  South America   \n",
       "996          218.99       C9947            68           Other  South America   \n",
       "997           18.61       C4827            62            Male         Africa   \n",
       "998           54.19       C6459            59           Other         Africa   \n",
       "999           96.11       C3865            23           Other         Africa   \n",
       "\n",
       "     Total Sales Amount  \n",
       "0                232.80  \n",
       "1               4082.40  \n",
       "2               1776.90  \n",
       "3               1382.76  \n",
       "4               1105.10  \n",
       "..                  ...  \n",
       "995              101.62  \n",
       "996              218.99  \n",
       "997               55.83  \n",
       "998              270.95  \n",
       "999              864.99  \n",
       "\n",
       "[1000 rows x 12 columns]"
      ]
     },
     "execution_count": 4,
     "metadata": {},
     "output_type": "execute_result"
    }
   ],
   "source": [
    "df\n"
   ]
  },
  {
   "cell_type": "code",
   "execution_count": 11,
   "metadata": {},
   "outputs": [],
   "source": [
    "# Ensure the 'Date' column is in datetime format\n",
    "df['Date'] = pd.to_datetime(df['Date'])"
   ]
  },
  {
   "cell_type": "code",
   "execution_count": 12,
   "metadata": {},
   "outputs": [
    {
     "data": {
      "text/plain": [
       "0     2024-05-25\n",
       "1     2024-01-04\n",
       "2     2024-04-12\n",
       "3     2024-05-19\n",
       "4     2024-01-31\n",
       "         ...    \n",
       "995   2024-10-08\n",
       "996   2024-11-27\n",
       "997   2024-02-21\n",
       "998   2024-10-16\n",
       "999   2024-03-12\n",
       "Name: Date, Length: 1000, dtype: datetime64[ns]"
      ]
     },
     "execution_count": 12,
     "metadata": {},
     "output_type": "execute_result"
    }
   ],
   "source": [
    "df['Date']"
   ]
  },
  {
   "cell_type": "code",
   "execution_count": 13,
   "metadata": {},
   "outputs": [],
   "source": [
    "# Extract the month from the 'Date' column\n",
    "df['Month'] = df['Date'].dt.month\n"
   ]
  },
  {
   "cell_type": "code",
   "execution_count": 14,
   "metadata": {},
   "outputs": [
    {
     "data": {
      "text/plain": [
       "0       5\n",
       "1       1\n",
       "2       4\n",
       "3       5\n",
       "4       1\n",
       "       ..\n",
       "995    10\n",
       "996    11\n",
       "997     2\n",
       "998    10\n",
       "999     3\n",
       "Name: Month, Length: 1000, dtype: int64"
      ]
     },
     "execution_count": 14,
     "metadata": {},
     "output_type": "execute_result"
    }
   ],
   "source": [
    "df['Month']"
   ]
  },
  {
   "cell_type": "code",
   "execution_count": 15,
   "metadata": {},
   "outputs": [
    {
     "name": "stdout",
     "output_type": "stream",
     "text": [
      "    Month        sum         mean\n",
      "0       1  125404.08  1393.378667\n",
      "1       2  147937.50  1436.286408\n",
      "2       3  110952.78  1386.909750\n",
      "3       4  121907.50  1486.676829\n",
      "4       5  116904.74  1375.349882\n",
      "5       6  129202.14  1538.120714\n",
      "6       7  145417.56  1615.750667\n",
      "7       8  136050.42  1360.504200\n",
      "8       9  107967.74  1542.396286\n",
      "9      10  139037.21  1495.023763\n",
      "10     11  161736.87  1483.824495\n",
      "11     12   14245.37  1017.526429\n"
     ]
    }
   ],
   "source": [
    "# Group by month and calculate total and average sales\n",
    "monthly_sales = df.groupby('Month')['Total Sales Amount'].agg(['sum', 'mean']).reset_index()\n",
    "print(monthly_sales)"
   ]
  },
  {
   "cell_type": "code",
   "execution_count": 18,
   "metadata": {},
   "outputs": [
    {
     "name": "stdout",
     "output_type": "stream",
     "text": [
      "      Category        sum         mean\n",
      "0     Clothing  273578.43  1395.808316\n",
      "1  Electronics  324726.49  1553.715263\n",
      "2    Furniture  288815.59  1415.762696\n",
      "3    Groceries  255088.54  1328.586146\n",
      "4         Toys  314554.86  1580.677688\n"
     ]
    }
   ],
   "source": [
    "# Group by 'Category' and calculate total and average sales\n",
    "category_sales = df.groupby('Category')['Total Sales Amount'].agg(['sum', 'mean']).reset_index()\n",
    "print(category_sales)"
   ]
  },
  {
   "cell_type": "code",
   "execution_count": 19,
   "metadata": {},
   "outputs": [
    {
     "name": "stdout",
     "output_type": "stream",
     "text": [
      "          Region        sum         mean\n",
      "0         Africa  268651.81  1356.827323\n",
      "1           Asia  293608.46  1432.236390\n",
      "2         Europe  287056.89  1510.825737\n",
      "3  North America  313484.51  1551.903515\n",
      "4  South America  293962.24  1433.962146\n"
     ]
    }
   ],
   "source": [
    "# Group by 'Region' and calculate total and average sales\n",
    "region_sales = df.groupby('Region')['Total Sales Amount'].agg(['sum', 'mean']).reset_index()\n",
    "print(region_sales)"
   ]
  },
  {
   "cell_type": "code",
   "execution_count": 20,
   "metadata": {},
   "outputs": [
    {
     "data": {
      "text/html": [
       "<div>\n",
       "<style scoped>\n",
       "    .dataframe tbody tr th:only-of-type {\n",
       "        vertical-align: middle;\n",
       "    }\n",
       "\n",
       "    .dataframe tbody tr th {\n",
       "        vertical-align: top;\n",
       "    }\n",
       "\n",
       "    .dataframe thead th {\n",
       "        text-align: right;\n",
       "    }\n",
       "</style>\n",
       "<table border=\"1\" class=\"dataframe\">\n",
       "  <thead>\n",
       "    <tr style=\"text-align: right;\">\n",
       "      <th></th>\n",
       "      <th>Quantity Sold</th>\n",
       "      <th>Price per Unit</th>\n",
       "      <th>Customer Age</th>\n",
       "      <th>Total Sales Amount</th>\n",
       "      <th>Month</th>\n",
       "    </tr>\n",
       "  </thead>\n",
       "  <tbody>\n",
       "    <tr>\n",
       "      <th>Quantity Sold</th>\n",
       "      <td>1.000000</td>\n",
       "      <td>-0.035370</td>\n",
       "      <td>0.009562</td>\n",
       "      <td>0.632048</td>\n",
       "      <td>0.085022</td>\n",
       "    </tr>\n",
       "    <tr>\n",
       "      <th>Price per Unit</th>\n",
       "      <td>-0.035370</td>\n",
       "      <td>1.000000</td>\n",
       "      <td>0.013236</td>\n",
       "      <td>0.666675</td>\n",
       "      <td>-0.031218</td>\n",
       "    </tr>\n",
       "    <tr>\n",
       "      <th>Customer Age</th>\n",
       "      <td>0.009562</td>\n",
       "      <td>0.013236</td>\n",
       "      <td>1.000000</td>\n",
       "      <td>0.031988</td>\n",
       "      <td>-0.016222</td>\n",
       "    </tr>\n",
       "    <tr>\n",
       "      <th>Total Sales Amount</th>\n",
       "      <td>0.632048</td>\n",
       "      <td>0.666675</td>\n",
       "      <td>0.031988</td>\n",
       "      <td>1.000000</td>\n",
       "      <td>0.016422</td>\n",
       "    </tr>\n",
       "    <tr>\n",
       "      <th>Month</th>\n",
       "      <td>0.085022</td>\n",
       "      <td>-0.031218</td>\n",
       "      <td>-0.016222</td>\n",
       "      <td>0.016422</td>\n",
       "      <td>1.000000</td>\n",
       "    </tr>\n",
       "  </tbody>\n",
       "</table>\n",
       "</div>"
      ],
      "text/plain": [
       "                    Quantity Sold  Price per Unit  Customer Age  \\\n",
       "Quantity Sold            1.000000       -0.035370      0.009562   \n",
       "Price per Unit          -0.035370        1.000000      0.013236   \n",
       "Customer Age             0.009562        0.013236      1.000000   \n",
       "Total Sales Amount       0.632048        0.666675      0.031988   \n",
       "Month                    0.085022       -0.031218     -0.016222   \n",
       "\n",
       "                    Total Sales Amount     Month  \n",
       "Quantity Sold                 0.632048  0.085022  \n",
       "Price per Unit                0.666675 -0.031218  \n",
       "Customer Age                  0.031988 -0.016222  \n",
       "Total Sales Amount            1.000000  0.016422  \n",
       "Month                         0.016422  1.000000  "
      ]
     },
     "execution_count": 20,
     "metadata": {},
     "output_type": "execute_result"
    }
   ],
   "source": [
    "# finding correlations among columns\n",
    "df.corr()"
   ]
  },
  {
   "cell_type": "code",
   "execution_count": 23,
   "metadata": {},
   "outputs": [
    {
     "data": {
      "text/plain": [
       "<matplotlib.axes._subplots.AxesSubplot at 0x15280396108>"
      ]
     },
     "execution_count": 23,
     "metadata": {},
     "output_type": "execute_result"
    },
    {
     "data": {
      "image/png": "[encoded data removed]",
      "text/plain": [
       "<Figure size 432x288 with 2 Axes>"
      ]
     },
     "metadata": {
      "needs_background": "light"
     },
     "output_type": "display_data"
    }
   ],
   "source": [
    "sns.heatmap(df.corr() , annot= True , cmap='PuOr')"
   ]
  },
  {
   "cell_type": "code",
   "execution_count": null,
   "metadata": {},
   "outputs": [],
   "source": [
    "# A correlation value of 0.63 and 0.67 suggests that Total sales amount and Price per unit,\n",
    "# Quantity sold variables have strong positive correlation.\n",
    "# 0.013, -0.016 suggest no significant linear relationship between month and Customer Age,\n",
    "# Customer age and price per unit variables."
   ]
  },
  {
   "cell_type": "code",
   "execution_count": 24,
   "metadata": {},
   "outputs": [
    {
     "data": {
      "image/png": "[encoded data removed]",
      "text/plain": [
       "<Figure size 360x720 with 6 Axes>"
      ]
     },
     "metadata": {},
     "output_type": "display_data"
    }
   ],
   "source": [
    "sns.set(palette='BrBG')\n",
    "df.hist(figsize=(5,10));"
   ]
  },
  {
   "cell_type": "code",
   "execution_count": 25,
   "metadata": {},
   "outputs": [
    {
     "data": {
      "image/png": "[encoded data removed]",
      "text/plain": [
       "<Figure size 432x288 with 1 Axes>"
      ]
     },
     "metadata": {},
     "output_type": "display_data"
    }
   ],
   "source": [
    "df['Total Sales Amount'].plot(kind='box')\n",
    "plt.show()"
   ]
  },
  {
   "cell_type": "code",
   "execution_count": 26,
   "metadata": {},
   "outputs": [
    {
     "data": {
      "image/png": "[encoded data removed]",
      "text/plain": [
       "<Figure size 432x288 with 1 Axes>"
      ]
     },
     "metadata": {},
     "output_type": "display_data"
    }
   ],
   "source": [
    "df['Price per Unit'].plot(kind='box')\n",
    "plt.show()"
   ]
  },
  {
   "cell_type": "code",
   "execution_count": 29,
   "metadata": {},
   "outputs": [
    {
     "data": {
      "image/png": "[encoded data removed]",
      "text/plain": [
       "<Figure size 432x288 with 1 Axes>"
      ]
     },
     "metadata": {},
     "output_type": "display_data"
    }
   ],
   "source": [
    "df['Price per Unit'].plot(kind='hist')\n",
    "plt.show()"
   ]
  },
  {
   "cell_type": "code",
   "execution_count": 28,
   "metadata": {},
   "outputs": [
    {
     "data": {
      "image/png": "[encoded data removed]",
      "text/plain": [
       "<Figure size 432x288 with 1 Axes>"
      ]
     },
     "metadata": {},
     "output_type": "display_data"
    }
   ],
   "source": [
    "df['Quantity Sold'].plot(kind='hist')\n",
    "plt.show()"
   ]
  }
 ],
 "metadata": {
  "kernelspec": {
   "display_name": "Python 3",
   "language": "python",
   "name": "python3"
  },
  "language_info": {
   "codemirror_mode": {
    "name": "ipython",
    "version": 3
   },
   "file_extension": ".py",
   "mimetype": "text/x-python",
   "name": "python",
   "nbconvert_exporter": "python",
   "pygments_lexer": "ipython3",
   "version": "3.7.4"
  }
 },
 "nbformat": 4,
 "nbformat_minor": 2
}
