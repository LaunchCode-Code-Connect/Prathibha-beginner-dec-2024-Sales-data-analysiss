{
 "cells": [
  {
   "cell_type": "code",
   "execution_count": 2,
   "metadata": {},
   "outputs": [],
   "source": [
    "import pandas as pd\n",
    "import matplotlib.pyplot as plt\n",
    "import seaborn as sns\n",
    "import numpy as np\n",
    "\n",
    "# Read the data\n",
    "df = pd.read_csv('C://Users//prave//Desktop//LaunchcodeW+//Prathibha-beginner-dec-2024-Sales-data-analysiss//synthetic_sales_dataset1.csv')"
   ]
  },
  {
   "cell_type": "code",
   "execution_count": 3,
   "metadata": {},
   "outputs": [
    {
     "name": "stdout",
     "output_type": "stream",
     "text": [
      "<class 'pandas.core.frame.DataFrame'>\n",
      "RangeIndex: 1000 entries, 0 to 999\n",
      "Data columns (total 12 columns):\n",
      " #   Column              Non-Null Count  Dtype  \n",
      "---  ------              --------------  -----  \n",
      " 0   Order ID            1000 non-null   object \n",
      " 1   Date                1000 non-null   object \n",
      " 2   Product ID          1000 non-null   object \n",
      " 3   Product Name        1000 non-null   object \n",
      " 4   Category            1000 non-null   object \n",
      " 5   Quantity Sold       1000 non-null   int64  \n",
      " 6   Price per Unit      1000 non-null   float64\n",
      " 7   Customer ID         1000 non-null   object \n",
      " 8   Customer Age        1000 non-null   int64  \n",
      " 9   Customer Gender     1000 non-null   object \n",
      " 10  Region              1000 non-null   object \n",
      " 11  Total Sales Amount  1000 non-null   float64\n",
      "dtypes: float64(2), int64(2), object(8)\n",
      "memory usage: 93.9+ KB\n"
     ]
    }
   ],
   "source": [
    "# info of the data\n",
    "df.info()"
   ]
  },
  {
   "cell_type": "code",
   "execution_count": 4,
   "metadata": {},
   "outputs": [
    {
     "data": {
      "text/plain": [
       "Index(['Order ID', 'Date', 'Product ID', 'Product Name', 'Category',\n",
       "       'Quantity Sold', 'Price per Unit', 'Customer ID', 'Customer Age',\n",
       "       'Customer Gender', 'Region', 'Total Sales Amount'],\n",
       "      dtype='object')"
      ]
     },
     "execution_count": 4,
     "metadata": {},
     "output_type": "execute_result"
    }
   ],
   "source": [
    "df.columns"
   ]
  },
  {
   "cell_type": "code",
   "execution_count": 5,
   "metadata": {},
   "outputs": [
    {
     "name": "stdout",
     "output_type": "stream",
     "text": [
      "Order ID - 0%\n",
      "Date - 0%\n",
      "Product ID - 0%\n",
      "Product Name - 0%\n",
      "Category - 0%\n",
      "Quantity Sold - 0%\n",
      "Price per Unit - 0%\n",
      "Customer ID - 0%\n",
      "Customer Age - 0%\n",
      "Customer Gender - 0%\n",
      "Region - 0%\n",
      "Total Sales Amount - 0%\n"
     ]
    }
   ],
   "source": [
    "# missing data % for each feature.\n",
    "for col in df.columns:\n",
    "    pct_missing = np.mean(df[col].isnull())\n",
    "    print('{} - {}%'.format(col, round(pct_missing*100)))"
   ]
  },
  {
   "cell_type": "code",
   "execution_count": 6,
   "metadata": {},
   "outputs": [
    {
     "data": {
      "text/html": [
       "<div>\n",
       "<style scoped>\n",
       "    .dataframe tbody tr th:only-of-type {\n",
       "        vertical-align: middle;\n",
       "    }\n",
       "\n",
       "    .dataframe tbody tr th {\n",
       "        vertical-align: top;\n",
       "    }\n",
       "\n",
       "    .dataframe thead th {\n",
       "        text-align: right;\n",
       "    }\n",
       "</style>\n",
       "<table border=\"1\" class=\"dataframe\">\n",
       "  <thead>\n",
       "    <tr style=\"text-align: right;\">\n",
       "      <th></th>\n",
       "      <th>Order ID</th>\n",
       "      <th>Date</th>\n",
       "      <th>Product ID</th>\n",
       "      <th>Product Name</th>\n",
       "      <th>Category</th>\n",
       "      <th>Quantity Sold</th>\n",
       "      <th>Price per Unit</th>\n",
       "      <th>Customer ID</th>\n",
       "      <th>Customer Age</th>\n",
       "      <th>Customer Gender</th>\n",
       "      <th>Region</th>\n",
       "      <th>Total Sales Amount</th>\n",
       "    </tr>\n",
       "  </thead>\n",
       "  <tbody>\n",
       "    <tr>\n",
       "      <th>0</th>\n",
       "      <td>d12a0955</td>\n",
       "      <td>5/25/2024</td>\n",
       "      <td>P6136</td>\n",
       "      <td>firm</td>\n",
       "      <td>Groceries</td>\n",
       "      <td>5</td>\n",
       "      <td>46.56</td>\n",
       "      <td>C1460</td>\n",
       "      <td>65</td>\n",
       "      <td>Male</td>\n",
       "      <td>North America</td>\n",
       "      <td>232.80</td>\n",
       "    </tr>\n",
       "    <tr>\n",
       "      <th>1</th>\n",
       "      <td>d0d0bc01</td>\n",
       "      <td>1/4/2024</td>\n",
       "      <td>P2733</td>\n",
       "      <td>community</td>\n",
       "      <td>Groceries</td>\n",
       "      <td>10</td>\n",
       "      <td>408.24</td>\n",
       "      <td>C1049</td>\n",
       "      <td>23</td>\n",
       "      <td>Other</td>\n",
       "      <td>North America</td>\n",
       "      <td>4082.40</td>\n",
       "    </tr>\n",
       "    <tr>\n",
       "      <th>2</th>\n",
       "      <td>dc50f91b</td>\n",
       "      <td>4/12/2024</td>\n",
       "      <td>P9496</td>\n",
       "      <td>friend</td>\n",
       "      <td>Toys</td>\n",
       "      <td>5</td>\n",
       "      <td>355.38</td>\n",
       "      <td>C9674</td>\n",
       "      <td>51</td>\n",
       "      <td>Other</td>\n",
       "      <td>Asia</td>\n",
       "      <td>1776.90</td>\n",
       "    </tr>\n",
       "    <tr>\n",
       "      <th>3</th>\n",
       "      <td>75e69090</td>\n",
       "      <td>5/19/2024</td>\n",
       "      <td>P6820</td>\n",
       "      <td>because</td>\n",
       "      <td>Furniture</td>\n",
       "      <td>9</td>\n",
       "      <td>153.64</td>\n",
       "      <td>C3773</td>\n",
       "      <td>56</td>\n",
       "      <td>Male</td>\n",
       "      <td>Asia</td>\n",
       "      <td>1382.76</td>\n",
       "    </tr>\n",
       "    <tr>\n",
       "      <th>4</th>\n",
       "      <td>f1850f2d</td>\n",
       "      <td>1/31/2024</td>\n",
       "      <td>P4080</td>\n",
       "      <td>family</td>\n",
       "      <td>Clothing</td>\n",
       "      <td>5</td>\n",
       "      <td>221.02</td>\n",
       "      <td>C3947</td>\n",
       "      <td>26</td>\n",
       "      <td>Female</td>\n",
       "      <td>South America</td>\n",
       "      <td>1105.10</td>\n",
       "    </tr>\n",
       "    <tr>\n",
       "      <th>...</th>\n",
       "      <td>...</td>\n",
       "      <td>...</td>\n",
       "      <td>...</td>\n",
       "      <td>...</td>\n",
       "      <td>...</td>\n",
       "      <td>...</td>\n",
       "      <td>...</td>\n",
       "      <td>...</td>\n",
       "      <td>...</td>\n",
       "      <td>...</td>\n",
       "      <td>...</td>\n",
       "      <td>...</td>\n",
       "    </tr>\n",
       "    <tr>\n",
       "      <th>995</th>\n",
       "      <td>87792dd0</td>\n",
       "      <td>10/8/2024</td>\n",
       "      <td>P1795</td>\n",
       "      <td>language</td>\n",
       "      <td>Clothing</td>\n",
       "      <td>2</td>\n",
       "      <td>50.81</td>\n",
       "      <td>C3755</td>\n",
       "      <td>21</td>\n",
       "      <td>Female</td>\n",
       "      <td>South America</td>\n",
       "      <td>101.62</td>\n",
       "    </tr>\n",
       "    <tr>\n",
       "      <th>996</th>\n",
       "      <td>6c45b8a9</td>\n",
       "      <td>11/27/2024</td>\n",
       "      <td>P3982</td>\n",
       "      <td>away</td>\n",
       "      <td>Clothing</td>\n",
       "      <td>1</td>\n",
       "      <td>218.99</td>\n",
       "      <td>C9947</td>\n",
       "      <td>68</td>\n",
       "      <td>Other</td>\n",
       "      <td>South America</td>\n",
       "      <td>218.99</td>\n",
       "    </tr>\n",
       "    <tr>\n",
       "      <th>997</th>\n",
       "      <td>d2887cd2</td>\n",
       "      <td>2/21/2024</td>\n",
       "      <td>P3261</td>\n",
       "      <td>big</td>\n",
       "      <td>Electronics</td>\n",
       "      <td>3</td>\n",
       "      <td>18.61</td>\n",
       "      <td>C4827</td>\n",
       "      <td>62</td>\n",
       "      <td>Male</td>\n",
       "      <td>Africa</td>\n",
       "      <td>55.83</td>\n",
       "    </tr>\n",
       "    <tr>\n",
       "      <th>998</th>\n",
       "      <td>65a15516</td>\n",
       "      <td>10/16/2024</td>\n",
       "      <td>P8429</td>\n",
       "      <td>face</td>\n",
       "      <td>Furniture</td>\n",
       "      <td>5</td>\n",
       "      <td>54.19</td>\n",
       "      <td>C6459</td>\n",
       "      <td>59</td>\n",
       "      <td>Other</td>\n",
       "      <td>Africa</td>\n",
       "      <td>270.95</td>\n",
       "    </tr>\n",
       "    <tr>\n",
       "      <th>999</th>\n",
       "      <td>7724d613</td>\n",
       "      <td>3/12/2024</td>\n",
       "      <td>P3679</td>\n",
       "      <td>top</td>\n",
       "      <td>Toys</td>\n",
       "      <td>9</td>\n",
       "      <td>96.11</td>\n",
       "      <td>C3865</td>\n",
       "      <td>23</td>\n",
       "      <td>Other</td>\n",
       "      <td>Africa</td>\n",
       "      <td>864.99</td>\n",
       "    </tr>\n",
       "  </tbody>\n",
       "</table>\n",
       "<p>1000 rows × 12 columns</p>\n",
       "</div>"
      ],
      "text/plain": [
       "     Order ID        Date Product ID Product Name     Category  Quantity Sold  \\\n",
       "0    d12a0955   5/25/2024      P6136         firm    Groceries              5   \n",
       "1    d0d0bc01    1/4/2024      P2733    community    Groceries             10   \n",
       "2    dc50f91b   4/12/2024      P9496       friend         Toys              5   \n",
       "3    75e69090   5/19/2024      P6820      because    Furniture              9   \n",
       "4    f1850f2d   1/31/2024      P4080       family     Clothing              5   \n",
       "..        ...         ...        ...          ...          ...            ...   \n",
       "995  87792dd0   10/8/2024      P1795     language     Clothing              2   \n",
       "996  6c45b8a9  11/27/2024      P3982         away     Clothing              1   \n",
       "997  d2887cd2   2/21/2024      P3261          big  Electronics              3   \n",
       "998  65a15516  10/16/2024      P8429         face    Furniture              5   \n",
       "999  7724d613   3/12/2024      P3679          top         Toys              9   \n",
       "\n",
       "     Price per Unit Customer ID  Customer Age Customer Gender         Region  \\\n",
       "0             46.56       C1460            65            Male  North America   \n",
       "1            408.24       C1049            23           Other  North America   \n",
       "2            355.38       C9674            51           Other           Asia   \n",
       "3            153.64       C3773            56            Male           Asia   \n",
       "4            221.02       C3947            26          Female  South America   \n",
       "..              ...         ...           ...             ...            ...   \n",
       "995           50.81       C3755            21          Female  South America   \n",
       "996          218.99       C9947            68           Other  South America   \n",
       "997           18.61       C4827            62            Male         Africa   \n",
       "998           54.19       C6459            59           Other         Africa   \n",
       "999           96.11       C3865            23           Other         Africa   \n",
       "\n",
       "     Total Sales Amount  \n",
       "0                232.80  \n",
       "1               4082.40  \n",
       "2               1776.90  \n",
       "3               1382.76  \n",
       "4               1105.10  \n",
       "..                  ...  \n",
       "995              101.62  \n",
       "996              218.99  \n",
       "997               55.83  \n",
       "998              270.95  \n",
       "999              864.99  \n",
       "\n",
       "[1000 rows x 12 columns]"
      ]
     },
     "execution_count": 6,
     "metadata": {},
     "output_type": "execute_result"
    }
   ],
   "source": [
    "df"
   ]
  },
  {
   "cell_type": "code",
   "execution_count": 13,
   "metadata": {},
   "outputs": [
    {
     "name": "stdout",
     "output_type": "stream",
     "text": [
      "     Order ID       Date Product ID Product Name     Category  Quantity Sold  \\\n",
      "0    d12a0955 2024-05-25      P6136         firm    Groceries              5   \n",
      "1    d0d0bc01 2024-04-01      P2733    community    Groceries             10   \n",
      "2    dc50f91b 2024-12-04      P9496       friend         Toys              5   \n",
      "3    75e69090 2024-05-19      P6820      because    Furniture              9   \n",
      "4    f1850f2d 2024-01-31      P4080       family     Clothing              5   \n",
      "..        ...        ...        ...          ...          ...            ...   \n",
      "995  87792dd0 2024-08-10      P1795     language     Clothing              2   \n",
      "996  6c45b8a9 2024-11-27      P3982         away     Clothing              1   \n",
      "997  d2887cd2 2024-02-21      P3261          big  Electronics              3   \n",
      "998  65a15516 2024-10-16      P8429         face    Furniture              5   \n",
      "999  7724d613 2024-12-03      P3679          top         Toys              9   \n",
      "\n",
      "     Price per Unit Customer ID  Customer Age Customer Gender         Region  \\\n",
      "0             46.56       C1460            65            Male  North America   \n",
      "1            408.24       C1049            23           Other  North America   \n",
      "2            355.38       C9674            51           Other           Asia   \n",
      "3            153.64       C3773            56            Male           Asia   \n",
      "4            221.02       C3947            26          Female  South America   \n",
      "..              ...         ...           ...             ...            ...   \n",
      "995           50.81       C3755            21          Female  South America   \n",
      "996          218.99       C9947            68           Other  South America   \n",
      "997           18.61       C4827            62            Male         Africa   \n",
      "998           54.19       C6459            59           Other         Africa   \n",
      "999           96.11       C3865            23           Other         Africa   \n",
      "\n",
      "     Total Sales Amount  \n",
      "0                232.80  \n",
      "1               4082.40  \n",
      "2               1776.90  \n",
      "3               1382.76  \n",
      "4               1105.10  \n",
      "..                  ...  \n",
      "995              101.62  \n",
      "996              218.99  \n",
      "997               55.83  \n",
      "998              270.95  \n",
      "999              864.99  \n",
      "\n",
      "[1000 rows x 12 columns]\n"
     ]
    }
   ],
   "source": [
    "df['Date'] = pd.to_datetime(df['Date'], dayfirst=True)\n",
    "print(df)"
   ]
  },
  {
   "cell_type": "code",
   "execution_count": 19,
   "metadata": {},
   "outputs": [
    {
     "name": "stdout",
     "output_type": "stream",
     "text": [
      "Categorical Columns: Index(['Order ID', 'Product ID', 'Product Name', 'Category', 'Customer ID',\n",
      "       'Customer Gender', 'Region'],\n",
      "      dtype='object')\n"
     ]
    }
   ],
   "source": [
    "# Categorical columns\n",
    "categorical_cols = df.select_dtypes(include=['object', 'category']).columns\n",
    "print(\"Categorical Columns:\", categorical_cols)"
   ]
  },
  {
   "cell_type": "code",
   "execution_count": 20,
   "metadata": {},
   "outputs": [
    {
     "name": "stdout",
     "output_type": "stream",
     "text": [
      "Numerical Columns: Index(['Quantity Sold', 'Price per Unit', 'Customer Age',\n",
      "       'Total Sales Amount'],\n",
      "      dtype='object')\n"
     ]
    }
   ],
   "source": [
    "# Numerical columns\n",
    "numerical_cols = df.select_dtypes(include=['number']).columns\n",
    "print(\"Numerical Columns:\", numerical_cols)"
   ]
  },
  {
   "cell_type": "code",
   "execution_count": 21,
   "metadata": {},
   "outputs": [
    {
     "data": {
      "text/plain": [
       "0      False\n",
       "1      False\n",
       "2      False\n",
       "3      False\n",
       "4      False\n",
       "       ...  \n",
       "995    False\n",
       "996    False\n",
       "997    False\n",
       "998    False\n",
       "999    False\n",
       "Length: 1000, dtype: bool"
      ]
     },
     "execution_count": 21,
     "metadata": {},
     "output_type": "execute_result"
    }
   ],
   "source": [
    "df.duplicated()"
   ]
  }
 ],
 "metadata": {
  "kernelspec": {
   "display_name": "Python 3",
   "language": "python",
   "name": "python3"
  },
  "language_info": {
   "codemirror_mode": {
    "name": "ipython",
    "version": 3
   },
   "file_extension": ".py",
   "mimetype": "text/x-python",
   "name": "python",
   "nbconvert_exporter": "python",
   "pygments_lexer": "ipython3",
   "version": "3.7.4"
  }
 },
 "nbformat": 4,
 "nbformat_minor": 2
}
